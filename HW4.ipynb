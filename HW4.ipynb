{
 "cells": [
  {
   "cell_type": "code",
   "execution_count": 1,
   "id": "f643329e",
   "metadata": {},
   "outputs": [],
   "source": [
    "import numpy as np"
   ]
  },
  {
   "cell_type": "code",
   "execution_count": 2,
   "id": "44728b67",
   "metadata": {},
   "outputs": [],
   "source": [
    "import pandas as pd"
   ]
  },
  {
   "cell_type": "code",
   "execution_count": 5,
   "id": "af37cf58",
   "metadata": {},
   "outputs": [],
   "source": [
    "import matplotlib.pyplot as plt"
   ]
  },
  {
   "cell_type": "code",
   "execution_count": 9,
   "id": "4864ee70",
   "metadata": {},
   "outputs": [],
   "source": [
    "import sklearn"
   ]
  },
  {
   "cell_type": "code",
   "execution_count": 12,
   "id": "bc200de6",
   "metadata": {},
   "outputs": [],
   "source": [
    "from sklearn.datasets import load_boston"
   ]
  },
  {
   "cell_type": "code",
   "execution_count": 13,
   "id": "c1039183",
   "metadata": {},
   "outputs": [],
   "source": [
    "boston = load_boston()"
   ]
  },
  {
   "cell_type": "code",
   "execution_count": 15,
   "id": "5f6139fa",
   "metadata": {},
   "outputs": [
    {
     "data": {
      "text/plain": [
       "dict_keys(['data', 'target', 'feature_names', 'DESCR', 'filename'])"
      ]
     },
     "execution_count": 15,
     "metadata": {},
     "output_type": "execute_result"
    }
   ],
   "source": [
    "boston.keys()"
   ]
  },
  {
   "cell_type": "code",
   "execution_count": 16,
   "id": "566e17f0",
   "metadata": {},
   "outputs": [],
   "source": [
    "data = boston.data"
   ]
  },
  {
   "cell_type": "code",
   "execution_count": 17,
   "id": "8301b8b2",
   "metadata": {},
   "outputs": [],
   "source": [
    "target = boston.target"
   ]
  },
  {
   "cell_type": "code",
   "execution_count": 18,
   "id": "a2db3a04",
   "metadata": {},
   "outputs": [],
   "source": [
    "f_names = boston.feature_names"
   ]
  },
  {
   "cell_type": "code",
   "execution_count": 19,
   "id": "7080bcfe",
   "metadata": {},
   "outputs": [],
   "source": [
    "DESCR = boston.DESCR"
   ]
  },
  {
   "cell_type": "code",
   "execution_count": null,
   "id": "5a4d3245",
   "metadata": {},
   "outputs": [],
   "source": [
    "filename = boston.filename"
   ]
  },
  {
   "cell_type": "code",
   "execution_count": 26,
   "id": "9fa6f991",
   "metadata": {},
   "outputs": [],
   "source": [
    "x = pd.DataFrame(data, columns=f_names)"
   ]
  },
  {
   "cell_type": "code",
   "execution_count": 27,
   "id": "fd8810a2",
   "metadata": {},
   "outputs": [],
   "source": [
    "y = pd.DataFrame(target, columns=['price'])"
   ]
  },
  {
   "cell_type": "code",
   "execution_count": 29,
   "id": "63e2a879",
   "metadata": {},
   "outputs": [],
   "source": [
    "from sklearn.model_selection import train_test_split"
   ]
  },
  {
   "cell_type": "code",
   "execution_count": 30,
   "id": "ef4fd59b",
   "metadata": {},
   "outputs": [],
   "source": [
    "x_train, x_test, y_train, y_test = train_test_split(x, y, test_size=0.2, random_state = 42)"
   ]
  },
  {
   "cell_type": "code",
   "execution_count": 35,
   "id": "c2694188",
   "metadata": {
    "scrolled": true
   },
   "outputs": [],
   "source": [
    "scaler = sklearn.preprocessing.StandardScaler()\n",
    "x_train_scaled = pd.DataFrame(scaler.fit_transform(x_train), columns=x_train.columns)\n",
    "x_test_scaled = pd.DataFrame(scaler.transform(x_test), columns=x_test.columns)\n",
    "y_train_scaled = pd.DataFrame(scaler.fit_transform(y_train), columns=['price'])\n",
    "y_test_scaled = pd.DataFrame(scaler.transform(y_test), columns=['price'])"
   ]
  },
  {
   "cell_type": "code",
   "execution_count": 36,
   "id": "436f5058",
   "metadata": {},
   "outputs": [],
   "source": [
    "from sklearn.manifold import TSNE"
   ]
  },
  {
   "cell_type": "code",
   "execution_count": 37,
   "id": "2685dc49",
   "metadata": {},
   "outputs": [],
   "source": [
    "tsne = TSNE(n_components=2, learning_rate=250, random_state=42)\n",
    "\n",
    "x_train_tsne = tsne.fit_transform(x_train_scaled)\n",
    "y_train_tsne = tsne.fit_transform(y_train_scaled)"
   ]
  },
  {
   "cell_type": "code",
   "execution_count": 48,
   "id": "3d0adabe",
   "metadata": {},
   "outputs": [
    {
     "name": "stderr",
     "output_type": "stream",
     "text": [
      "C:\\Program Files (x86)\\anaconda\\lib\\site-packages\\matplotlib\\collections.py:922: RuntimeWarning: invalid value encountered in sqrt\n",
      "  scale = np.sqrt(self._sizes) * dpi / 72.0 * self._factor\n"
     ]
    },
    {
     "data": {
      "image/png": "[encoded data removed]",
      "text/plain": [
       "<Figure size 432x288 with 1 Axes>"
      ]
     },
     "metadata": {
      "needs_background": "light"
     },
     "output_type": "display_data"
    }
   ],
   "source": [
    "plt.scatter(x_train_tsne[:, 0], x_train_tsne[:, 1], y_train_tsne[:, 0], y_train_tsne[:, 1])\n",
    "\n",
    "plt.show()"
   ]
  },
  {
   "cell_type": "code",
   "execution_count": 49,
   "id": "cbdfd7c7",
   "metadata": {},
   "outputs": [],
   "source": [
    "from sklearn.cluster import KMeans"
   ]
  },
  {
   "cell_type": "code",
   "execution_count": 61,
   "id": "b51f5967",
   "metadata": {},
   "outputs": [],
   "source": [
    " model = KMeans(n_clusters=3, random_state=42, max_iter = 100)"
   ]
  },
  {
   "cell_type": "code",
   "execution_count": 77,
   "id": "1b169066",
   "metadata": {
    "scrolled": true
   },
   "outputs": [
    {
     "data": {
      "text/plain": [
       "<matplotlib.collections.PathCollection at 0x262641133d0>"
      ]
     },
     "execution_count": 77,
     "metadata": {},
     "output_type": "execute_result"
    },
    {
     "data": {
      "image/png": "[encoded data removed]",
      "text/plain": [
       "<Figure size 432x288 with 1 Axes>"
      ]
     },
     "metadata": {
      "needs_background": "light"
     },
     "output_type": "display_data"
    }
   ],
   "source": [
    "train_labels = model.fit_predict(x_train_tsne)\n",
    "\n",
    "plt.scatter(x_train_tsne[:, 0], x_train_tsne[:, 1], train_labels)\n",
    "plt.scatter(centers[:, 0], centers[:, 1], marker='D', color='red')\n"
   ]
  },
  {
   "cell_type": "code",
   "execution_count": null,
   "id": "8432d97b",
   "metadata": {},
   "outputs": [],
   "source": []
  }
 ],
 "metadata": {
  "kernelspec": {
   "display_name": "Python 3",
   "language": "python",
   "name": "python3"
  },
  "language_info": {
   "codemirror_mode": {
    "name": "ipython",
    "version": 3
   },
   "file_extension": ".py",
   "mimetype": "text/x-python",
   "name": "python",
   "nbconvert_exporter": "python",
   "pygments_lexer": "ipython3",
   "version": "3.8.8"
  }
 },
 "nbformat": 4,
 "nbformat_minor": 5
}
